{
    "metadata": {
        "kernelspec": {
            "name": "SQL",
            "display_name": "SQL",
            "language": "sql"
        },
        "language_info": {
            "name": "sql",
            "version": ""
        }
    },
    "nbformat_minor": 2,
    "nbformat": 4,
    "cells": [
        {
            "cell_type": "code",
            "source": [
                "CREATE DATABASE expenseTrackie;\n",
                "\n",
                "\n",
                "-- ABOUT USER (RUN THIS)\n",
                "\n",
                "CREATE TABLE userInfo(\n",
                "\n",
                "        id INTEGER PRIMARY KEY IDENTITY(1,1) NOT NULL ,\n",
                "        username VARCHAR(255) UNIQUE NOT NULL,\n",
                "        password VARCHAR(255) NOT NULL ,\n",
                "        number VARCHAR(10) UNIQUE NOT NULL,\n",
                "        dateJoined DATE NOT NULL,\n",
                "        enabled BIT NOT NULL DEFAULT 1,\n",
                "        profilePicturePath VARCHAR(255),\n",
                "        dailyLimit DECIMAL(10,2) CONSTRAINT def_limit DEFAULT 5000\n",
                "\n",
                "        \n",
                "\n",
                ");\n",
                "\n",
                "ALTER TABLE userInfo\n",
                "ADD dailyLimit DECIMAL(10,2) NULL;\n",
                "\n",
                "select * from userInfo\n",
                "\n",
                "\n",
                "--  insertion testing\n",
                "INSERT INTO userInfo (username, password, number, dateJoined, enabled)\n",
                "VALUES ('johndoe', '1234', '1234567890', '2024-09-14', 1);\n",
                "\n",
                "\n",
                "\n",
                "-- (RUN THIS)\n",
                "CREATE TABLE userAttributes(\n",
                "        id INTEGER NOT NULL,\n",
                "        dailyLimit DECIMAL(10,2) CONSTRAINT def_limit DEFAULT 5000,\n",
                "\n",
                "        PRIMARY KEY (id),\n",
                "        FOREIGN KEY (id) REFERENCES userInfo(id)\n",
                "\n",
                "        \n",
                ");\n",
                "\n",
                "-- (RUN THIS)\n",
                "CREATE TABLE verification(\n",
                "        id INTEGER NOT NULL,\n",
                "\n",
                "        PRIMARY KEY(id),\n",
                "        FOREIGN KEY (id) REFERENCES userInfo(id)\n",
                "        \n",
                "\n",
                ");\n",
                "\n",
                "\n",
                "\n",
                "\n",
                "-- ABOUT CATEGORY (RUN THIS)\n",
                "\n",
                "CREATE TABLE category(\n",
                "        catId INTEGER IDENTITY(1,1) ,\n",
                "\n",
                "       \n",
                "        catName VARCHAR(100)  NOT NULL ,\n",
                "        description VARCHAR(250) NOT NULL,\n",
                "        color varchar(7) NOT NULL,\n",
                "        userId INTEGER NOT NULL,\n",
                "        enabled BIT NOT NULL DEFAULT 1,\n",
                "\n",
                "\n",
                "        PRIMARY KEY (catId),\n",
                "        FOREIGN KEY (userId) REFERENCES userInfo(id)\n",
                "\n",
                ");\n",
                "\n",
                "\n",
                "--  DO NOT RUN THIS\n",
                "-- ALTER TABLE category\n",
                "-- ALTER COLUMN color varchar(7);\n",
                "\n",
                "-- DELETE FROM category\n",
                "-- WHERE catId = 4\n",
                "SELECT * from category\n",
                "\n",
                "\n",
                "\n",
                "-- -- EXPENSES (RUN THIS)\n",
                "CREATE TABLE expense(\n",
                "        eId INTEGER IDENTITY(1,1),\n",
                "        userId INTEGER NOT NULL,\n",
                "        catId INTEGER NOT NULL,\n",
                "\n",
                "        amount DECIMAL(10,2) NOT NULL,\n",
                "        remarks VARCHAR(255) NOT NULL,\n",
                "        dateAdded DATE NOT NULL,\n",
                "        timeAdded TIME NOT NULL,\n",
                "        enabled BIT NOT NULL DEFAULT 1,\n",
                "\n",
                "\n",
                "        PRIMARY KEY(eId),\n",
                "        FOREIGN KEY (userId) REFERENCES userInfo(id),\n",
                "        FOREIGN KEY (catId) REFERENCES category(catId),\n",
                "\n",
                "     \n",
                "\n",
                ");\n",
                "\n",
                "\n",
                "\n",
                "\n",
                "\n",
                "\n",
                "\n",
                "SELECT * from   expense\n",
                "\n",
                "-- for tyo custom expense button jasto\n",
                "SELECT eId,remarks,timeAdded,color,amount\n",
                "from expense e\n",
                "JOIN category c\n",
                "on e.catId = c.catId\n",
                "WHERE e.userId = 1 AND c.userId = 1 AND c.enabled = 1 AND c.catId IN (2,3)"
            ],
            "metadata": {
                "azdata_cell_guid": "24dce8e8-344c-46e1-bf98-acf4e788320f",
                "language": "sql"
            },
            "outputs": [],
            "execution_count": null
        },
        {
            "cell_type": "markdown",
            "source": [
                "after you run all this, in project goto App.config, you can see this"
            ],
            "metadata": {
                "azdata_cell_guid": "85d672ec-0056-4ec5-b256-dc971649b758"
            }
        },
        {
            "cell_type": "markdown",
            "source": [
                "<connectionStrings>"
            ],
            "metadata": {
                "azdata_cell_guid": "020aafe5-6b0d-4af8-a8b7-e89d93c81c41"
            }
        },
        {
            "cell_type": "markdown",
            "source": [
                "<add name=\"expenseTrackie\""
            ],
            "metadata": {
                "azdata_cell_guid": "13bebabd-c0aa-4c4e-b7aa-a405c54e0a18"
            }
        },
        {
            "cell_type": "markdown",
            "source": [
                "connectionString=\"Data Source=NOTHINGS-LAPTOP\\SQLEXPRESS;Initial Catalog=expenseTrackie;Integrated Security=True;\""
            ],
            "metadata": {
                "azdata_cell_guid": "b81920d0-ba55-4b32-83f9-6a59eb9139b4"
            }
        },
        {
            "cell_type": "markdown",
            "source": [
                "providerName=\"System.Data.SqlClient\" />"
            ],
            "metadata": {
                "azdata_cell_guid": "8234fce7-0860-40cd-91a4-2002e785e282"
            }
        },
        {
            "cell_type": "markdown",
            "source": [
                "</connectionStrings>"
            ],
            "metadata": {
                "azdata_cell_guid": "ea6ea652-0b0c-419b-b566-b2d397664303"
            }
        },
        {
            "cell_type": "markdown",
            "source": [
                ""
            ],
            "metadata": {
                "azdata_cell_guid": "03ca8662-b7a5-43ff-ac9b-b917d1bfe53d"
            }
        }
    ]
}